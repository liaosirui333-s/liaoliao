{
 "cells": [
  {
   "cell_type": "markdown",
   "metadata": {},
   "source": [
    "### Assignment: APIs"
   ]
  },
  {
   "cell_type": "code",
   "execution_count": 8,
   "metadata": {},
   "outputs": [
    {
     "name": "stdout",
     "output_type": "stream",
     "text": [
      "Collecting schedule\n",
      "  Downloading schedule-1.1.0-py2.py3-none-any.whl (10 kB)\n",
      "Installing collected packages: schedule\n",
      "Successfully installed schedule-1.1.0\n",
      "Note: you may need to restart the kernel to use updated packages.\n"
     ]
    }
   ],
   "source": [
    "pip install schedule"
   ]
  },
  {
   "cell_type": "code",
   "execution_count": null,
   "metadata": {},
   "outputs": [],
   "source": [
    "import schedule\n",
    "import time\n",
    "from twilio.rest import Client\n",
    "import requests\n",
    "\n",
    "account_sid = 'ACd2c07beea18f0a94b33aa6015fab8eee'\n",
    "auth_token = 'd4936ace799bb4c576c97c8bba37192e'\n",
    "\n",
    "\n",
    "#weather\n",
    "api_key = '9b5328ea255ce98647b7cc34d6f46a13'\n",
    "city_name = 'New York,US'\n",
    "\n",
    "#API endpoint URL\n",
    "url = f'https://api.openweathermap.org/data/2.5/weather?q={city_name}&appid={api_key}'\n",
    "response = requests.get(url)\n",
    "weather_data = response.json()\n",
    "\n",
    "weather_description = weather_data['weather'][0]['description']\n",
    "\n",
    "\n",
    "\n",
    "\n",
    "\n",
    "#text me \n",
    "client = Client(account_sid, auth_token)\n",
    "\n",
    "to_number = '+19293544145'\n",
    "message_body = f'''Good morning rui ♡ Today's weather is {weather_description}. Have a nice day out! (*˘︶˘*) '''\n",
    "\n",
    "def send_message():\n",
    "    message = client.messages.create(to=to_number, from_='++18888391683', body=message_body)\n",
    "    print('Message sent:', message.sid)\n",
    "    \n",
    "schedule.every().day.at('09:30').do(send_message)\n",
    "\n",
    "#do it everyday not should how to keep it running with jupyter ><\n",
    "while True:\n",
    "    schedule.run_pending()\n",
    "    time.sleep(1)\n",
    "    \n"
   ]
  },
  {
   "cell_type": "code",
   "execution_count": null,
   "metadata": {},
   "outputs": [],
   "source": []
  },
  {
   "cell_type": "code",
   "execution_count": null,
   "metadata": {},
   "outputs": [],
   "source": []
  },
  {
   "cell_type": "code",
   "execution_count": null,
   "metadata": {},
   "outputs": [],
   "source": []
  },
  {
   "cell_type": "code",
   "execution_count": null,
   "metadata": {},
   "outputs": [],
   "source": []
  }
 ],
 "metadata": {
  "kernelspec": {
   "display_name": "Python 3 (ipykernel)",
   "language": "python",
   "name": "python3"
  },
  "language_info": {
   "codemirror_mode": {
    "name": "ipython",
    "version": 3
   },
   "file_extension": ".py",
   "mimetype": "text/x-python",
   "name": "python",
   "nbconvert_exporter": "python",
   "pygments_lexer": "ipython3",
   "version": "3.9.13"
  }
 },
 "nbformat": 4,
 "nbformat_minor": 2
}
