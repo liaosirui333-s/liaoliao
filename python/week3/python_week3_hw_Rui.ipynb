{
 "cells": [
  {
   "cell_type": "code",
   "execution_count": null,
   "metadata": {},
   "outputs": [],
   "source": [
    "# 1) Iterate through list and print the key \n",
    "\n",
    "# fruit_basket = {'apple': 1, 'bananas': 2, 'cantelopes': 3, 'dates': 4, 'figs': 5, 'grapes': 6, 'tangerines': 7, 'watermelon': 8, 'avocado': 9, 'strawberries': 10}"
   ]
  },
  {
   "cell_type": "code",
   "execution_count": 5,
   "metadata": {},
   "outputs": [
    {
     "name": "stdout",
     "output_type": "stream",
     "text": [
      "apple\n",
      "bananas\n",
      "cantelopes\n",
      "dates\n",
      "figs\n",
      "grapes\n",
      "tangerines\n",
      "watermelon\n",
      "avocado\n",
      "strawberries\n"
     ]
    }
   ],
   "source": [
    "fruit_basket = {'apple': 1, 'bananas': 2, 'cantelopes': 3, 'dates': 4, 'figs': 5, 'grapes': 6, 'tangerines': 7, 'watermelon': 8, 'avocado': 9, 'strawberries': 10}\n",
    "for fruit,num in fruit_basket.items():\n",
    "    print (fruit)"
   ]
  },
  {
   "cell_type": "code",
   "execution_count": null,
   "metadata": {},
   "outputs": [],
   "source": [
    "# 2) Iterate through list and print the value \n",
    "# fruit_basket = {'apple': 1, 'bananas': 2, 'cantelopes': 3, 'dates': 4, 'figs': 5, 'grapes': 6, 'tangerines': 7, 'watermelon': 8, 'avocado': 9, 'strawberries': 10}"
   ]
  },
  {
   "cell_type": "code",
   "execution_count": 6,
   "metadata": {},
   "outputs": [
    {
     "name": "stdout",
     "output_type": "stream",
     "text": [
      "1\n",
      "2\n",
      "3\n",
      "4\n",
      "5\n",
      "6\n",
      "7\n",
      "8\n",
      "9\n",
      "10\n"
     ]
    }
   ],
   "source": [
    "fruit_basket = {'apple': 1, 'bananas': 2, 'cantelopes': 3, 'dates': 4, 'figs': 5, 'grapes': 6, 'tangerines': 7, 'watermelon': 8, 'avocado': 9, 'strawberries': 10}\n",
    "for fruit, num in fruit_basket.items():\n",
    "    print(num)"
   ]
  },
  {
   "cell_type": "code",
   "execution_count": null,
   "metadata": {},
   "outputs": [],
   "source": [
    "# 3) Find sum of all the fruit \n",
    "# fruit_basket = {'apple': 1, 'bananas': 2, 'cantelopes': 3, 'dates': 4, 'figs': 5, 'grapes': 6, 'tangerines': 7, 'watermelon': 8, 'avocado': 9, 'strawberries': 10}"
   ]
  },
  {
   "cell_type": "code",
   "execution_count": 14,
   "metadata": {},
   "outputs": [
    {
     "data": {
      "text/plain": [
       "55"
      ]
     },
     "execution_count": 14,
     "metadata": {},
     "output_type": "execute_result"
    }
   ],
   "source": [
    "fruit_basket = {'apple': 1, 'bananas': 2, 'cantelopes': 3, 'dates': 4, 'figs': 5, 'grapes': 6, 'tangerines': 7, 'watermelon': 8, 'avocado': 9, 'strawberries': 10}\n",
    "sum(fruit_basket.values())"
   ]
  },
  {
   "cell_type": "code",
   "execution_count": null,
   "metadata": {},
   "outputs": [],
   "source": [
    "# 4) What is the output of the add() function call and why? \n",
    "\n",
    "\n",
    "# def add(a, b):\n",
    "#     return a+5, b+5\n",
    "\n",
    "# result = add(3, 2)\n",
    "# print(result)\n",
    "\n",
    "\n",
    "# a) 15\n",
    "# b) 8\n",
    "# c) (8, 7)\n",
    "# d) Syntax Error\n"
   ]
  },
  {
   "cell_type": "markdown",
   "metadata": {},
   "source": [
    "c, add is the name of the function, and the function is to add to the value in the tupil "
   ]
  },
  {
   "cell_type": "code",
   "execution_count": null,
   "metadata": {},
   "outputs": [],
   "source": [
    "# 5) Select the statements that are true: \n",
    "\n",
    "\n",
    "# a) A Python function can return only a single value\n",
    "# b) A function can take an unlimited number of arguments.\n",
    "# c) A Python function can return multiple values\n",
    "# d) Python function doesn’t return anything unless and until you add a return statement\n"
   ]
  },
  {
   "cell_type": "markdown",
   "metadata": {},
   "source": [
    "b,c"
   ]
  },
  {
   "cell_type": "code",
   "execution_count": null,
   "metadata": {},
   "outputs": [],
   "source": [
    "# 6)Python function always returns a value\n",
    "\n",
    "# True or False and why? "
   ]
  },
  {
   "cell_type": "markdown",
   "metadata": {},
   "source": [
    "ture, returns none"
   ]
  },
  {
   "cell_type": "code",
   "execution_count": null,
   "metadata": {},
   "outputs": [],
   "source": [
    "# 7) Given the nested if-else structure below, what will be the value of x after code execution completes\n",
    "\n",
    "# x = 0\n",
    "# a = 0\n",
    "# b = -5\n",
    "# if a > 0:\n",
    "#     if b < 0: \n",
    "#         x = x + 5 \n",
    "#     elif a > 5:\n",
    "#         x = x + 4\n",
    "#     else:\n",
    "#         x = x + 3\n",
    "# else:\n",
    "#     x = x + 2\n",
    "# print(x)\n"
   ]
  },
  {
   "cell_type": "markdown",
   "metadata": {},
   "source": [
    "2,because a=0, so it pass the if and goes to the else statement "
   ]
  },
  {
   "cell_type": "code",
   "execution_count": null,
   "metadata": {},
   "outputs": [],
   "source": [
    "# 8) What is the output of the following if statement and why? \n",
    "\n",
    "\n",
    "# a, b = 12, 5\n",
    "# if a + b:\n",
    "#     print('True')\n",
    "# else:\n",
    "#   print('False')"
   ]
  },
  {
   "cell_type": "markdown",
   "metadata": {},
   "source": [
    "true because it just run from up to down\n"
   ]
  },
  {
   "cell_type": "markdown",
   "metadata": {},
   "source": [
    "9) A calculator is defined as the following: \n",
    "\n",
    "\"something used for making mathematical calculations, in particular a small electronic device with a keyboard and a visual display.\" \n",
    "\n",
    "\n",
    "Create a creative calculator of your choice where _something_ is being calculated (it must perform some sort of operation). Feel free to get creative with it. Your calculator can be also be literal. Your calculator calculator must include the following: \n",
    "\n",
    "* an input box \n",
    "* a function \n",
    "\n",
    "Some examples of things to calculate: \n",
    "\n",
    "* adding strings \n",
    "* create your own version of verbal arithmetic (https://en.wikipedia.org/wiki/Verbal_arithmetic) \n",
    "* how many times \"I\" is mentioned in a paragraph \n",
    "* add more operations to the calculator like REMAINDER (%) or POWER (**) \n",
    "\n",
    "Refer to the sample code below to get started. \n"
   ]
  },
  {
   "cell_type": "code",
   "execution_count": 37,
   "metadata": {},
   "outputs": [],
   "source": [
    "def calculator():\n",
    "\n",
    "    operation = input(''' \n",
    "Please type in the math operation you would like to complete:\n",
    "+ for addition\n",
    "- for subtraction\n",
    "* for multiplication\n",
    "/ for division\n",
    "''') # Triple-quotes allow the string to span multiple lines\n",
    "    \n",
    "    # Prompt the user to input two numbers\n",
    "    # The int() function converts the string that comes in from the input() function to an integer\n",
    "    number_1 = int(input('Please enter the first number: '))\n",
    "    number_2 = int(input('Please enter the second number: '))\n",
    "\n",
    "    # Conditional statement:\n",
    "    # If the user entered '+', perform an addition\n",
    "    if operation == '+':\n",
    "        print(number_1, '+', number_2, '=')\n",
    "        print(number_1 + number_2)\n",
    "\n",
    "    # Else if the user entered '-', perform a substraction\n",
    "    elif operation == '-':\n",
    "        print(number_1, '-', number_2, '=')\n",
    "        print(number_1 - number_2)\n",
    "\n",
    "    # Else if the user entered '*', perform a multiplication\n",
    "    elif operation == '*':\n",
    "        print(number_1, '*', number_2, '=')\n",
    "        print(number_1 * number_2)\n",
    "\n",
    "    # Else if the user entered '/', perform a division\n",
    "    elif operation == '/':\n",
    "        print(number_1, '/', number_2, '=')\n",
    "        print(number_1 / number_2)\n",
    "    \n",
    "    # Else notify the user that they have not put in a valid operator (in place to handle error-message)\n",
    "    else:\n",
    "        print('You have not entered a valid operator')\n",
    "        "
   ]
  },
  {
   "cell_type": "code",
   "execution_count": 38,
   "metadata": {},
   "outputs": [
    {
     "name": "stdout",
     "output_type": "stream",
     "text": [
      " \n",
      "Please type in the math operation you would like to complete:\n",
      "+ for addition\n",
      "- for subtraction\n",
      "* for multiplication\n",
      "/ for division\n",
      "+\n",
      "Please enter the first number: 6\n",
      "Please enter the second number: 3\n",
      "6 + 3 =\n",
      "9\n"
     ]
    }
   ],
   "source": [
    "calculator()"
   ]
  },
  {
   "cell_type": "code",
   "execution_count": 1,
   "metadata": {},
   "outputs": [],
   "source": [
    "import random\n",
    "\n",
    "\n",
    "\n",
    "Fourleg_animal=['🐰','🐭','🦊','🐻','🐼','🐸','🐻‍❄️','🐨','🐯','🦁','🐮','🐷','🐵']\n",
    "Threeleg_animal=['✈️','🌵','🦑','🐬','🐠','🐟','🦈','🦭','🐳']\n",
    "Twoleg_animal=['🐥','🐧','🐦','🐔','🦆','🦉','🦇','🦅','👤']\n",
    "Oneleg_animal=['🪡','🥾','👞','👢','🩴']\n",
    "Two_an=['🐝','🐛','🦋','🐌','🐜','🪰','🪲','🪳','🦟','🦗','✂️','🔌']\n",
    "one_an=['📡','🧨','🚎','🍈','🍓','🦄','🍊','🪱']\n",
    "face=['@(・●・)@']\n",
    "def calculatorr():\n",
    "    \n",
    "    \n",
    "\n",
    "    name = input('''\n",
    "    ^3^ name your jury''') \n",
    "    print('\\n')\n",
    "    number_1 = int(input(f'{name}'+' has ____ legs in total'))\n",
    "    print('\\n')\n",
    "    number_2 = int(input(f'{name}'+' has ____ antenna in total'))\n",
    "    print('\\n')\n",
    "    print('︶︶︶ ⊹ ︶︶︶⠀୨♡୧⠀︶︶︶ ⊹ ︶︶︶')\n",
    "    print('\\n')\n",
    "    print(random.choice(face)+' '+ f'{name}'+'looks like this')\n",
    "    print('\\n')\n",
    "\n",
    "    if (number_1%2) == 0:\n",
    "        print(random.choice(Fourleg_animal)* int(number_1/4) )\n",
    "        print(random.choice(Twoleg_animal)* int((number_1/4)/2))\n",
    "        \n",
    "    elif (number_1%2) != 0:\n",
    "        print(random.choice(Threeleg_animal)*int(number_1/3))\n",
    "        if (number_1%3)!= 0:\n",
    "            print(random.choice(Oneleg_animal)*int(number_1%3))\n",
    "         \n",
    "    if (number_2%2) == 0:\n",
    "        print(random.choice(Two_an)*int(number_2/2))\n",
    "    \n",
    "            \n",
    "    elif(number_2%2) != 0:\n",
    "        print(random.choice(Two_an)*int(number_2/4))\n",
    "        if (int(number_2/2)%2)> 0:\n",
    "            print(random.choice(one_an)*int((number_2/2)%2))\n",
    "    \n",
    "    else:\n",
    "        print('please key in a number~')\n",
    "        "
   ]
  },
  {
   "cell_type": "code",
   "execution_count": 2,
   "metadata": {},
   "outputs": [
    {
     "name": "stdout",
     "output_type": "stream",
     "text": [
      "\n",
      "    ^3^ name your jurymolly\n",
      "\n",
      "\n",
      "molly has ____ legs in total7\n",
      "\n",
      "\n",
      "molly has ____ antenna in total1\n",
      "\n",
      "\n",
      "︶︶︶ ⊹ ︶︶︶⠀୨♡୧⠀︶︶︶ ⊹ ︶︶︶\n",
      "\n",
      "\n",
      "@(・●・)@ mollylooks like this\n",
      "\n",
      "\n",
      "🦭🦭\n",
      "👢\n",
      "\n"
     ]
    }
   ],
   "source": [
    "calculatorr()"
   ]
  },
  {
   "cell_type": "code",
   "execution_count": null,
   "metadata": {},
   "outputs": [],
   "source": []
  }
 ],
 "metadata": {
  "kernelspec": {
   "display_name": "Python 3 (ipykernel)",
   "language": "python",
   "name": "python3"
  },
  "language_info": {
   "codemirror_mode": {
    "name": "ipython",
    "version": 3
   },
   "file_extension": ".py",
   "mimetype": "text/x-python",
   "name": "python",
   "nbconvert_exporter": "python",
   "pygments_lexer": "ipython3",
   "version": "3.9.13"
  }
 },
 "nbformat": 4,
 "nbformat_minor": 2
}
