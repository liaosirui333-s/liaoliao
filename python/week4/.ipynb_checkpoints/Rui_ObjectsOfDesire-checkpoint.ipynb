{
 "cells": [
  {
   "cell_type": "markdown",
   "metadata": {},
   "source": [
    "Create a class object of something that you love. Write at least 3 methods for it. Include some attributes.\n",
    "\n",
    "Items you love can be categorical: \n",
    "\n",
    "* Food  \n",
    "* Pets \n",
    "* Vehicles \n",
    "* Places \n",
    "* Activities \n",
    "* Things \n",
    "\n",
    "See examples below "
   ]
  },
  {
   "cell_type": "code",
   "execution_count": 315,
   "metadata": {},
   "outputs": [
    {
     "name": "stdout",
     "output_type": "stream",
     "text": [
      "Pineapplebun is made of ♡ flour:100g, ♡ butter: 20g, ♡ milk: 160ml, ♡ egg: 1 ∩ˍ∩\n",
      "\n",
      "Chiffon is made of ♡ flour:100g, ♡ butter: 20g, ♡ milk: 160ml, ♡ egg: 2 ˇ０ˇ\n",
      "\n",
      "cookie is made of ♡ flour:80g, ♡ butter: 22g, ♡ milk: 100ml, ♡ egg: 1 〃・ｏ・〃\n",
      "\n"
     ]
    }
   ],
   "source": [
    "import random\n",
    "\n",
    "\n",
    "\n",
    "class Dessert():\n",
    "    def __init__(self, name, flour, butter, milk, egg):\n",
    "        self.name = name\n",
    "        self.flour = flour\n",
    "        self.butter = butter\n",
    "        self.milk = milk\n",
    "        self.egg = egg\n",
    "        \n",
    "\n",
    "    def save(self):\n",
    "        # create a dictionary for the name and dessert, and a list for the ingredients\n",
    "        recipes = [self.flour, self.butter, self.milk, self.egg]\n",
    "        name = {self.name: recipes}\n",
    "\n",
    "        # open the file in append mode\n",
    "        with open('de.txt', 'a') as file:\n",
    "            # write the header row if the file is empty\n",
    "            if file.tell() == 0:\n",
    "                file.write('Name ♡ Flour ♡ Butter ♡ Milk ♡ Egg ♡\\n\\n')\n",
    "\n",
    "            # loop through the dictionary and write each key-value pair to the file\n",
    "            for x, y in name.items():\n",
    "                file.write('%s:%s\\n\\n' % (x, y))\n",
    "            print('saved! * ॑꒳ ॑*')\n",
    "         \n",
    "    def tellMe(self):\n",
    "        \n",
    "        face=['(∩ˍ∩)','(∩ε ∩)','(∪▽∪)','(ˋ 3ˊ)','(ˇ０ˇ)','(╯ 3╰)','(◑０◐)','（oﾟωﾟo）','(〃・ｏ・〃)','(ｕｏｕ〃)','（ｕ△ｕ＊）','（。-ˍ-。）']\n",
    "        \n",
    "        with open('de.txt', 'r') as file:\n",
    "            # loop through each line in the file and print the recipe\n",
    "            for line in file:\n",
    "                if line.startswith(self.name):\n",
    "                    recipe = line.split(':')[1]\n",
    "                    ingredients = recipe.strip(\"[]'\\n\").replace(\"'\", \"\").split(',')\n",
    "                    labels = [' ♡ flour',' ♡ butter',' ♡ milk',' ♡ egg']\n",
    "                    in_str = ','.join([f'{label}:{ingredient}'for label, ingredient in zip(labels, ingredients)])\n",
    "                    print(f'{self.name} is made of{in_str} {random.choice(face)}'+'\\n')\n",
    "                    \n",
    "    def dup(self):\n",
    "        # read in the lines from the file and remove duplicates\n",
    "        with open('de.txt', 'r') as file:\n",
    "            lines = file.readlines()\n",
    "\n",
    "        unique_lines = list(set(lines))\n",
    "\n",
    "        # write the updated lines back to the file\n",
    "        with open('de.txt', 'w') as file:\n",
    "            file.writelines(unique_lines)\n",
    "               \n",
    "                    \n",
    "pineapplebun = Dessert('Pineapplebun','100g','20g','160ml','1')\n",
    "#pineapplebun.save()\n",
    "pineapplebun.tellMe()\n",
    "chiffon = Dessert('Chiffon','100g','20g','160ml','2')\n",
    "#chiffon.save()\n",
    "\n",
    "chiffon.tellMe()\n",
    "#chiffon.dup()\n",
    "cookie = Dessert('cookie','80g','22g','100ml','1')\n",
    "#cookie.save()\n",
    "cookie.tellMe()"
   ]
  },
  {
   "cell_type": "code",
   "execution_count": null,
   "metadata": {},
   "outputs": [],
   "source": []
  },
  {
   "cell_type": "code",
   "execution_count": null,
   "metadata": {},
   "outputs": [],
   "source": []
  }
 ],
 "metadata": {
  "celltoolbar": "编辑元数据",
  "kernelspec": {
   "display_name": "Python 3 (ipykernel)",
   "language": "python",
   "name": "python3"
  },
  "language_info": {
   "codemirror_mode": {
    "name": "ipython",
    "version": 3
   },
   "file_extension": ".py",
   "mimetype": "text/x-python",
   "name": "python",
   "nbconvert_exporter": "python",
   "pygments_lexer": "ipython3",
   "version": "3.9.13"
  }
 },
 "nbformat": 4,
 "nbformat_minor": 2
}
