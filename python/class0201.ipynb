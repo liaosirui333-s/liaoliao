{
 "cells": [
  {
   "cell_type": "markdown",
   "id": "0cd6c1ed",
   "metadata": {},
   "source": []
  },
  {
   "cell_type": "markdown",
   "id": "c3828ddd",
   "metadata": {},
   "source": [
    "###hello"
   ]
  },
  {
   "cell_type": "markdown",
   "id": "a30b229d",
   "metadata": {},
   "source": [
    "### frist class"
   ]
  },
  {
   "cell_type": "code",
   "execution_count": 15,
   "id": "ea4cfafb",
   "metadata": {},
   "outputs": [],
   "source": [
    "a=1"
   ]
  },
  {
   "cell_type": "markdown",
   "id": "cb672bad",
   "metadata": {},
   "source": [
    "- var name cant start with number\n",
    "- no space between two words alway liao_si or LiaoSi\n",
    "- "
   ]
  },
  {
   "cell_type": "code",
   "execution_count": 17,
   "id": "8d168134",
   "metadata": {},
   "outputs": [],
   "source": [
    "#explain a var\n",
    "x=2"
   ]
  },
  {
   "cell_type": "code",
   "execution_count": 19,
   "id": "97d8c11a",
   "metadata": {},
   "outputs": [],
   "source": [
    "x+=10"
   ]
  },
  {
   "cell_type": "code",
   "execution_count": 20,
   "id": "88981019",
   "metadata": {},
   "outputs": [
    {
     "name": "stdout",
     "output_type": "stream",
     "text": [
      "12\n"
     ]
    }
   ],
   "source": [
    "print(x)"
   ]
  },
  {
   "cell_type": "code",
   "execution_count": 21,
   "id": "959c078b",
   "metadata": {},
   "outputs": [
    {
     "data": {
      "text/plain": [
       "'its me'"
      ]
     },
     "execution_count": 21,
     "metadata": {},
     "output_type": "execute_result"
    }
   ],
   "source": [
    "'hello'\n",
    "'its me'"
   ]
  },
  {
   "cell_type": "code",
   "execution_count": 22,
   "id": "31f23137",
   "metadata": {},
   "outputs": [
    {
     "name": "stdout",
     "output_type": "stream",
     "text": [
      "hello\n"
     ]
    }
   ],
   "source": [
    "print('hello')"
   ]
  },
  {
   "cell_type": "code",
   "execution_count": 24,
   "id": "d847173d",
   "metadata": {},
   "outputs": [
    {
     "name": "stdout",
     "output_type": "stream",
     "text": [
      "hello 'hello'\n",
      "\n",
      "\n"
     ]
    }
   ],
   "source": [
    "print('hello \\'hello\\'')\n",
    "print('\\n')#line break"
   ]
  },
  {
   "cell_type": "code",
   "execution_count": 28,
   "id": "078d7ab7",
   "metadata": {},
   "outputs": [
    {
     "name": "stdout",
     "output_type": "stream",
     "text": [
      "\n",
      "block string\n",
      "030\n",
      "131\n",
      "\n"
     ]
    },
    {
     "data": {
      "text/plain": [
       "9"
      ]
     },
     "execution_count": 28,
     "metadata": {},
     "output_type": "execute_result"
    }
   ],
   "source": [
    "print('''\n",
    "block string\n",
    "030\n",
    "131\n",
    "''')\n",
    "len('helloo   ')#check the length of the string (space is included)"
   ]
  },
  {
   "cell_type": "code",
   "execution_count": 30,
   "id": "bdaede24",
   "metadata": {},
   "outputs": [
    {
     "name": "stdout",
     "output_type": "stream",
     "text": [
      "catham\n"
     ]
    }
   ],
   "source": [
    "mystring='cat'+'ham'\n",
    "print(mystring)"
   ]
  },
  {
   "cell_type": "code",
   "execution_count": 32,
   "id": "bfb9f283",
   "metadata": {},
   "outputs": [
    {
     "name": "stdout",
     "output_type": "stream",
     "text": [
      "catcatcat\n"
     ]
    }
   ],
   "source": [
    "mystring='cat'* 3\n",
    "print(mystring)"
   ]
  },
  {
   "cell_type": "code",
   "execution_count": 33,
   "id": "77041a2a",
   "metadata": {},
   "outputs": [
    {
     "data": {
      "text/plain": [
       "'c'"
      ]
     },
     "execution_count": 33,
     "metadata": {},
     "output_type": "execute_result"
    }
   ],
   "source": [
    "mystring[0]"
   ]
  },
  {
   "cell_type": "code",
   "execution_count": 34,
   "id": "769fb37b",
   "metadata": {},
   "outputs": [
    {
     "data": {
      "text/plain": [
       "'CATCATCAT'"
      ]
     },
     "execution_count": 34,
     "metadata": {},
     "output_type": "execute_result"
    }
   ],
   "source": [
    "mystring.upper()"
   ]
  },
  {
   "cell_type": "code",
   "execution_count": 35,
   "id": "d5d0f6a3",
   "metadata": {},
   "outputs": [
    {
     "data": {
      "text/plain": [
       "'tactactac'"
      ]
     },
     "execution_count": 35,
     "metadata": {},
     "output_type": "execute_result"
    }
   ],
   "source": [
    "mystring[::-1]"
   ]
  },
  {
   "cell_type": "code",
   "execution_count": 37,
   "id": "d75dbb1a",
   "metadata": {},
   "outputs": [
    {
     "data": {
      "text/plain": [
       "'ctact'"
      ]
     },
     "execution_count": 37,
     "metadata": {},
     "output_type": "execute_result"
    }
   ],
   "source": [
    "mystring[::2]"
   ]
  },
  {
   "cell_type": "code",
   "execution_count": 38,
   "id": "36233376",
   "metadata": {},
   "outputs": [
    {
     "name": "stdout",
     "output_type": "stream",
     "text": [
      "ccatccatccat\n"
     ]
    }
   ],
   "source": [
    "print(mystring.replace('c','cc'))"
   ]
  },
  {
   "cell_type": "code",
   "execution_count": 39,
   "id": "f88678ac",
   "metadata": {},
   "outputs": [
    {
     "data": {
      "text/plain": [
       "['', 'at', 'at', 'at']"
      ]
     },
     "execution_count": 39,
     "metadata": {},
     "output_type": "execute_result"
    }
   ],
   "source": [
    "mystring.split('c')"
   ]
  },
  {
   "cell_type": "code",
   "execution_count": 42,
   "id": "c37f4c91",
   "metadata": {},
   "outputs": [],
   "source": [
    "number = 20"
   ]
  },
  {
   "cell_type": "code",
   "execution_count": 44,
   "id": "61bbb771",
   "metadata": {},
   "outputs": [
    {
     "name": "stdout",
     "output_type": "stream",
     "text": [
      "hello there are 20of us here\n"
     ]
    }
   ],
   "source": [
    "\n",
    "print(f'hello there are {number}of us here') #f is for format"
   ]
  },
  {
   "cell_type": "code",
   "execution_count": null,
   "id": "e8dd53a2",
   "metadata": {},
   "outputs": [],
   "source": [
    "number=20\n",
    "day= today\n",
    "print(f)"
   ]
  },
  {
   "cell_type": "code",
   "execution_count": null,
   "id": "9b785907",
   "metadata": {},
   "outputs": [],
   "source": [
    "list"
   ]
  },
  {
   "cell_type": "code",
   "execution_count": null,
   "id": "a27d6c5d",
   "metadata": {},
   "outputs": [],
   "source": []
  },
  {
   "cell_type": "code",
   "execution_count": null,
   "id": "e0c0ab09",
   "metadata": {},
   "outputs": [],
   "source": []
  },
  {
   "cell_type": "code",
   "execution_count": null,
   "id": "4e5edb5e",
   "metadata": {},
   "outputs": [],
   "source": []
  },
  {
   "cell_type": "code",
   "execution_count": null,
   "id": "ba75233a",
   "metadata": {},
   "outputs": [],
   "source": []
  },
  {
   "cell_type": "code",
   "execution_count": null,
   "id": "828557ea",
   "metadata": {},
   "outputs": [],
   "source": []
  },
  {
   "cell_type": "code",
   "execution_count": null,
   "id": "6ba4b05e",
   "metadata": {},
   "outputs": [],
   "source": []
  },
  {
   "cell_type": "code",
   "execution_count": null,
   "id": "6b7b7b52",
   "metadata": {},
   "outputs": [],
   "source": []
  },
  {
   "cell_type": "code",
   "execution_count": null,
   "id": "235c0de0",
   "metadata": {},
   "outputs": [],
   "source": []
  },
  {
   "cell_type": "code",
   "execution_count": null,
   "id": "4e7d922e",
   "metadata": {},
   "outputs": [],
   "source": []
  }
 ],
 "metadata": {
  "kernelspec": {
   "display_name": "Python 3 (ipykernel)",
   "language": "python",
   "name": "python3"
  },
  "language_info": {
   "codemirror_mode": {
    "name": "ipython",
    "version": 3
   },
   "file_extension": ".py",
   "mimetype": "text/x-python",
   "name": "python",
   "nbconvert_exporter": "python",
   "pygments_lexer": "ipython3",
   "version": "3.9.13"
  }
 },
 "nbformat": 4,
 "nbformat_minor": 5
}
