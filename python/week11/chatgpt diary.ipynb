{
 "cells": [
  {
   "cell_type": "markdown",
   "id": "e4403f63",
   "metadata": {},
   "source": [
    "i really dont have a habit of tracking personal data,,,, and at this point of the semaster\n",
    "i dont really have time to start one,,,,,,,,, (╯﹏╰）　\n",
    "so i fed it the novel Nausea by Satre, so it could write like the main charater Antoine Roquentin that suffers from existenial nausea. it is quite fun to read an ai's diary. \n",
    "\n",
    "thank isabella for sharing the api keyyyyyy （＾ν＾）"
   ]
  },
  {
   "cell_type": "code",
   "execution_count": 8,
   "id": "ac517f57",
   "metadata": {},
   "outputs": [],
   "source": [
    "#data frame, diary by date\n",
    "\n",
    "import pandas as pd\n",
    "import numpy as np\n",
    "df = pd.read_csv('nausea.csv', dtype=object)\n",
    "df\n",
    "\n",
    "import openai"
   ]
  },
  {
   "cell_type": "code",
   "execution_count": 9,
   "id": "c7daf7a9",
   "metadata": {},
   "outputs": [],
   "source": [
    "openai.api_key = \"\"\n",
    "\n",
    "import openai\n",
    "\n",
    "response = openai.Completion.create(\n",
    "    model=\"curie:ft-personal-2023-04-12-05-53-09\",\n",
    "    prompt=\"19320130\",\n",
    "    temperature=0.4, #randomness \n",
    "    max_tokens=200, #charaters in response \n",
    "    top_p=1, #controls diversity\n",
    "    frequency_penalty=0, #decrease repetition \n",
    "    presence_penalty=1 #increase likelihood to talk about new topic \n",
    ")"
   ]
  },
  {
   "cell_type": "code",
   "execution_count": 10,
   "id": "bb8fa0d1",
   "metadata": {},
   "outputs": [
    {
     "name": "stdout",
     "output_type": "stream",
     "text": [
      ".jpg Existed.\n",
      "I had been living in the Rue de l'Odéon for a little more than a year, and I was beginning to think that I might stay there for ever. I was no longer afraid of anything: I knew that I had never loved anyone seriously, that I was not capable of loving anyone seriously, and that I had only used women; but I was afraid of being bored. I had got used to my life, I was happy with it, I felt at home in the Rue de l'Odéon, where I could live as I pleased and do as I liked. I did not go out much, and when I did go out I felt like a man who has just settled down in a town. I went to the theatre once or twice a week, I took long walks in the Bois, I went to the cinema once a fortnight. In the evening I played billiards or read. I was afraid of going\n"
     ]
    }
   ],
   "source": [
    "result = response.choices[0].text\n",
    "print(result)"
   ]
  },
  {
   "cell_type": "code",
   "execution_count": 11,
   "id": "4aa31838",
   "metadata": {},
   "outputs": [
    {
     "name": "stdout",
     "output_type": "stream",
     "text": [
      ". This is not a joke. I am going to see if I can persuade the Police Commissioner to let me go on this adventure.\n",
      "A few moments ago, I was looking at a photograph of Marceline. The light from the streetlamps made her face look yellow. I felt an inexplicable desire to hold her in my arms. The photograph slipped out of my hands and fell to the ground. I bent down to pick it up. I saw a little piece of paper which had fallen out of the picture. I picked it up. It was a postcard. I read: \"I feel like a man who has lost his way in a strange city. I have stopped at a hotel. The waiter is a foreigner. The night is very dark. Between the lamps, I can make out the people's faces. I am afraid of being caught in the street. At any moment I might be arrested by the police. I am afraid of being alone in this room. I am afraid of the darkness. I am afraid of myself.\"\n",
      "It was signed: Marceline.\n",
      "I threw the card away. I felt ill, I felt as though I were going to faint. I went outside into the street. I walked along feeling in front of me with my hands. I felt a railing, then a door handle, then a woman's shoulder. I was walking along the street like a drunk. I felt a woman's body and a man's shoulder. Then I\n"
     ]
    }
   ],
   "source": [
    "response = openai.Completion.create(\n",
    "    model=\"curie:ft-personal-2023-04-12-05-53-09\",\n",
    "    prompt=\"19320130\",\n",
    "    temperature=0.5, #randomness \n",
    "    max_tokens=300, #charaters in response \n",
    "    top_p=1, #controls diversity\n",
    "    frequency_penalty=0, #decrease repetition \n",
    "    presence_penalty=0.5 #increase likelihood to talk about new topic \n",
    ")\n",
    "result = response.choices[0].text\n",
    "print(result)"
   ]
  },
  {
   "cell_type": "code",
   "execution_count": 12,
   "id": "a7ad70b8",
   "metadata": {},
   "outputs": [
    {
     "name": "stdout",
     "output_type": "stream",
     "text": [
      " is the date of the meeting at the Cluny. I must go. I’m afraid of what I might see. I mustn’t let myself be carried away. END OF THE YEAR END OF THE WORLD END OF MY LIFE END OF LOVE END OF HAPPINESS END OF EVERYTHING END END END END END END END END END END END END END END END END END END END END END END END END END END END END END END END END END END END END END END END END END END END END END END END END END END END END END END END END END END END END END END END END END END END END END END END END END END END END END END END END END END END END END END END END END END END END END END END END END END END END END END END END END END END END END END END END END END END END END END END END END END END END END END END END END END END END END END END END END END END END END END END END END END END END END END END END END END END END END END END END END END END END END END END END END END END END END END END END END END END END END END END END END END END END END END END END END END END END END END END END END END END END END END END END END END END END END END END END END END END END END END END END END END END END END END END END END END END END END\n"
     ]
    }
   ],
   "source": [
    "response = openai.Completion.create(\n",
    "    model=\"curie:ft-personal-2023-04-12-05-53-09\",\n",
    "    prompt=\"19320230\",\n",
    "    temperature=0.5, #randomness \n",
    "    max_tokens=300, #charaters in response \n",
    "    top_p=1, #controls diversity\n",
    "    frequency_penalty=0, #decrease repetition \n",
    "    presence_penalty=0.5 #increase likelihood to talk about new topic \n",
    ")\n",
    "result = response.choices[0].text\n",
    "print(result)"
   ]
  },
  {
   "cell_type": "code",
   "execution_count": 13,
   "id": "d13c487f",
   "metadata": {},
   "outputs": [
    {
     "name": "stdout",
     "output_type": "stream",
     "text": [
      "f0: I'm leaving the house.\n",
      "I'm going to see my father. END OF PART ONE.\n",
      "PART TWO\n",
      "I arrived at the station on foot. It was a warm, sunny day in April. I felt happy and excited. I was going to see my father, who had been a good man and a good father to me. He had never been rich, but he had always been able to live well, thanks to his work, which was not very difficult to find. He was a bookbinder. He worked from nine to five. From five to seven he was at the library. From seven to nine he was at the bookbindery. At noon he went to lunch with his wife, then he came home and worked until five o'clock. At five o'clock he went to the library. At ten o'clock he went to the bookbindery. At midnight he came home. The weekends he stayed at home. He was a widower since 1941. He lived alone in an apartment on Rue de l'Ouest. I had never seen him, but I knew that he was a taciturn, rather sad man, who didn't like much talking.\n",
      "He was a little above medium height, thin and bony, with a high forehead and thin, pointed beard. He had a long nose and small, dark eyes. His mouth was wide and his chin receded. I think he must have been a handsome man once. He was dressed in a black suit, a white shirt and a black tie. He had a round, solemn face, with a serious expression. I felt that he was looking at me.\n",
      "I took out of my pocket the letter I had written him a few days before. I wanted to give it to him to read. He didn't look at it. He kept his eyes on mine. He seemed to be saying: \"So you're going to see me again.\" I felt a bit frightened. I let go of the letter and looked at him. He was still looking at me. Then he turned his head away, as though he didn't want me to see him. I felt that I was blushing.\n",
      "The train was coming. I got into the first compartment. I was afraid that he would come in after me. But he didn't.\n",
      "END OF PART TWO.\n",
      "PART THREE\n",
      "I woke up at six o'clock. The sun was shining\n"
     ]
    }
   ],
   "source": [
    "response = openai.Completion.create(\n",
    "    model=\"curie:ft-personal-2023-04-12-05-53-09\",\n",
    "    prompt=\"19320202\",\n",
    "    temperature=0.5, #randomness \n",
    "    max_tokens=500, #charaters in response \n",
    "    top_p=1, #controls diversity\n",
    "    frequency_penalty=0, #decrease repetition \n",
    "    presence_penalty=0.6 #increase likelihood to talk about new topic \n",
    ")\n",
    "result = response.choices[0].text\n",
    "print(result)"
   ]
  },
  {
   "cell_type": "markdown",
   "id": "41a2d88c",
   "metadata": {},
   "source": [
    "~(';')~"
   ]
  },
  {
   "cell_type": "code",
   "execution_count": 14,
   "id": "e2bc5b87",
   "metadata": {},
   "outputs": [
    {
     "name": "stdout",
     "output_type": "stream",
     "text": [
      "3020,\"I think I'm going to have a baby.\"\n",
      "\"I know.\"\n",
      "\"You do?\" She laughed, incredulous. \"But how can you possibly know?\"\n",
      "\"Because I'm sure of it.\"\n",
      "\"Are you sure?\"\n",
      "\"No, but I'm sure I'm going to have a baby.\"\n",
      "\"I don't know what to say.\"\n",
      "\"Say you're pleased for me.\"\n",
      "\"I am.\" She did not add that she was afraid. She was afraid because she was happy. \"But I'm not sure if I'm pleased for you or for myself.\"\n",
      "\"For yourself, of course.\"\n",
      "\"Yes, for myself.\"\n",
      "\"I'm going to have a baby,\" she said again.\n",
      "She was afraid of being happy. END OF PART ONE\n",
      "The author's note: In the book, there is a passage where the narrator says: \"I must write about all the things that happened to me before I was born. I must write about the adventures I had before I was born.\" END OF PART ONE\n"
     ]
    }
   ],
   "source": [
    "response = openai.Completion.create(\n",
    "    model=\"curie:ft-personal-2023-04-12-05-53-09\",\n",
    "    prompt=\"20230202\",\n",
    "    temperature=0.5, #randomness \n",
    "    max_tokens=500, #charaters in response \n",
    "    top_p=1, #controls diversity\n",
    "    frequency_penalty=0, #decrease repetition \n",
    "    presence_penalty=0.6 #increase likelihood to talk about new topic \n",
    ")\n",
    "result = response.choices[0].text\n",
    "print(result)"
   ]
  },
  {
   "cell_type": "code",
   "execution_count": 15,
   "id": "6fdd54ab",
   "metadata": {},
   "outputs": [
    {
     "name": "stdout",
     "output_type": "stream",
     "text": [
      "17.jpg\" width=\"200\" height=\"150\" alt=\"My first exhibition at the Galerie René Drouin.\n",
      "\"I am not in love with painting. I am not in love with anything. But I do like things, and I like them when they are beautiful.\"\n",
      "That was what I said to myself, one evening after having been introduced to a painter. I was twenty-two years old. I was living in Paris. I had just come from a day of shopping: an overcoat, a hat, gloves, a bag. I was going to see a woman I knew. I was not in love with her, but I liked her. She was very pretty, rather older than I. We were going to have dinner at the Ritz.\n",
      "The painter was called Paul Morand. He was forty-three. He was a great painter. I had seen his pictures, at the Exposition Universelle in 1900. He had just finished a big canvas showing a woman dressed in black walking along a street. A woman with a white face, who walked straight ahead without looking at anything. She had a long, thin face; her eyes were wide open. I had never seen anything more beautiful.\n",
      "It was a great picture. There was something proud, almost arrogant, about the woman's face. The street was dark, and the woman was all alone. In the end, she turned around and looked at the people who were watching her. But she did not smile. She had a look of immense satisfaction, as if she had just been delivered from a long spell of suffering. She was tall and very thin, with straight, long hair which fell over her shoulders. She was dressed in black, with a long, full dress which she held in front of her. It was as if she wanted to hide herself, as if she wanted to be invisible. But she was not afraid. She was sure that she was beautiful.\n",
      "I remember very well the impression this painting made on me. I was fascinated by it. I felt that I had never seen anything so beautiful. And yet it was a woman. A woman! How could a woman look like that?\n",
      "I didn't know what to think. I was twenty-two years old, but I was already so much in love with women that I was afraid of them. I was afraid of the woman in the picture, because she was beautiful.\n",
      "But\n"
     ]
    }
   ],
   "source": [
    "response = openai.Completion.create(\n",
    "    model=\"curie:ft-personal-2023-04-12-05-53-09\",\n",
    "    prompt=\"20500202\",\n",
    "    temperature=0.5, #randomness \n",
    "    max_tokens=500, #charaters in response \n",
    "    top_p=1, #controls diversity\n",
    "    frequency_penalty=0, #decrease repetition \n",
    "    presence_penalty=0.6 #increase likelihood to talk about new topic \n",
    ")\n",
    "result = response.choices[0].text\n",
    "print(result)"
   ]
  },
  {
   "cell_type": "code",
   "execution_count": null,
   "id": "542ba5c8",
   "metadata": {},
   "outputs": [],
   "source": []
  }
 ],
 "metadata": {
  "kernelspec": {
   "display_name": "Python 3 (ipykernel)",
   "language": "python",
   "name": "python3"
  },
  "language_info": {
   "codemirror_mode": {
    "name": "ipython",
    "version": 3
   },
   "file_extension": ".py",
   "mimetype": "text/x-python",
   "name": "python",
   "nbconvert_exporter": "python",
   "pygments_lexer": "ipython3",
   "version": "3.9.13"
  }
 },
 "nbformat": 4,
 "nbformat_minor": 5
}
