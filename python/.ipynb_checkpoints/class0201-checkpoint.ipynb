{
 "cells": [
  {
   "cell_type": "markdown",
   "id": "52c2e77b",
   "metadata": {},
   "source": []
  },
  {
   "cell_type": "markdown",
   "id": "ef4b1cd3",
   "metadata": {},
   "source": [
    "###hello"
   ]
  },
  {
   "cell_type": "markdown",
   "id": "8a8fd36c",
   "metadata": {},
   "source": [
    "### frist class"
   ]
  },
  {
   "cell_type": "code",
   "execution_count": 15,
   "id": "6f31acb4",
   "metadata": {},
   "outputs": [],
   "source": [
    "a=1"
   ]
  },
  {
   "cell_type": "markdown",
   "id": "b37f2c32",
   "metadata": {},
   "source": [
    "- var name cant start with number\n",
    "- no space between two words alway liao_si or LiaoSi\n",
    "- "
   ]
  },
  {
   "cell_type": "code",
   "execution_count": 17,
   "id": "7cb7b808",
   "metadata": {},
   "outputs": [],
   "source": [
    "#explain a var\n",
    "x=2"
   ]
  },
  {
   "cell_type": "code",
   "execution_count": 19,
   "id": "c0678545",
   "metadata": {},
   "outputs": [],
   "source": [
    "x+=10"
   ]
  },
  {
   "cell_type": "code",
   "execution_count": 20,
   "id": "a294d8a4",
   "metadata": {},
   "outputs": [
    {
     "name": "stdout",
     "output_type": "stream",
     "text": [
      "12\n"
     ]
    }
   ],
   "source": [
    "print(x)"
   ]
  },
  {
   "cell_type": "code",
   "execution_count": 21,
   "id": "c25ccf10",
   "metadata": {},
   "outputs": [
    {
     "data": {
      "text/plain": [
       "'its me'"
      ]
     },
     "execution_count": 21,
     "metadata": {},
     "output_type": "execute_result"
    }
   ],
   "source": [
    "'hello'\n",
    "'its me'"
   ]
  },
  {
   "cell_type": "code",
   "execution_count": 22,
   "id": "7451f9a4",
   "metadata": {},
   "outputs": [
    {
     "name": "stdout",
     "output_type": "stream",
     "text": [
      "hello\n"
     ]
    }
   ],
   "source": [
    "print('hello')"
   ]
  },
  {
   "cell_type": "code",
   "execution_count": 24,
   "id": "66eaf657",
   "metadata": {},
   "outputs": [
    {
     "name": "stdout",
     "output_type": "stream",
     "text": [
      "hello 'hello'\n",
      "\n",
      "\n"
     ]
    }
   ],
   "source": [
    "print('hello \\'hello\\'')\n",
    "print('\\n')#line break"
   ]
  },
  {
   "cell_type": "code",
   "execution_count": 28,
   "id": "348357dc",
   "metadata": {},
   "outputs": [
    {
     "name": "stdout",
     "output_type": "stream",
     "text": [
      "\n",
      "block string\n",
      "030\n",
      "131\n",
      "\n"
     ]
    },
    {
     "data": {
      "text/plain": [
       "9"
      ]
     },
     "execution_count": 28,
     "metadata": {},
     "output_type": "execute_result"
    }
   ],
   "source": [
    "print('''\n",
    "block string\n",
    "030\n",
    "131\n",
    "''')\n",
    "len('helloo   ')#check the length of the string (space is included)"
   ]
  },
  {
   "cell_type": "code",
   "execution_count": 30,
   "id": "d3bd5873",
   "metadata": {},
   "outputs": [
    {
     "name": "stdout",
     "output_type": "stream",
     "text": [
      "catham\n"
     ]
    }
   ],
   "source": [
    "mystring='cat'+'ham'\n",
    "print(mystring)"
   ]
  },
  {
   "cell_type": "code",
   "execution_count": 32,
   "id": "04da20a6",
   "metadata": {},
   "outputs": [
    {
     "name": "stdout",
     "output_type": "stream",
     "text": [
      "catcatcat\n"
     ]
    }
   ],
   "source": [
    "mystring='cat'* 3\n",
    "print(mystring)"
   ]
  },
  {
   "cell_type": "code",
   "execution_count": 33,
   "id": "a1629b2c",
   "metadata": {},
   "outputs": [
    {
     "data": {
      "text/plain": [
       "'c'"
      ]
     },
     "execution_count": 33,
     "metadata": {},
     "output_type": "execute_result"
    }
   ],
   "source": [
    "mystring[0]"
   ]
  },
  {
   "cell_type": "code",
   "execution_count": null,
   "id": "12e2eb06",
   "metadata": {},
   "outputs": [],
   "source": []
  },
  {
   "cell_type": "code",
   "execution_count": null,
   "id": "def46bef",
   "metadata": {},
   "outputs": [],
   "source": []
  },
  {
   "cell_type": "code",
   "execution_count": null,
   "id": "ac72ebc8",
   "metadata": {},
   "outputs": [],
   "source": []
  },
  {
   "cell_type": "code",
   "execution_count": null,
   "id": "c1b3a7ee",
   "metadata": {},
   "outputs": [],
   "source": []
  },
  {
   "cell_type": "code",
   "execution_count": null,
   "id": "3fd2dc89",
   "metadata": {},
   "outputs": [],
   "source": []
  },
  {
   "cell_type": "code",
   "execution_count": null,
   "id": "1ffd0791",
   "metadata": {},
   "outputs": [],
   "source": []
  },
  {
   "cell_type": "code",
   "execution_count": null,
   "id": "8766d54f",
   "metadata": {},
   "outputs": [],
   "source": []
  }
 ],
 "metadata": {
  "kernelspec": {
   "display_name": "Python 3 (ipykernel)",
   "language": "python",
   "name": "python3"
  },
  "language_info": {
   "codemirror_mode": {
    "name": "ipython",
    "version": 3
   },
   "file_extension": ".py",
   "mimetype": "text/x-python",
   "name": "python",
   "nbconvert_exporter": "python",
   "pygments_lexer": "ipython3",
   "version": "3.9.13"
  }
 },
 "nbformat": 4,
 "nbformat_minor": 5
}
