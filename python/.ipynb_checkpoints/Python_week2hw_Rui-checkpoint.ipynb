{
 "cells": [
  {
   "cell_type": "markdown",
   "metadata": {},
   "source": [
    "ruiruiruiruiruiruiruiruiruiruiruiruiruirui rui '3'"
   ]
  },
  {
   "cell_type": "code",
   "execution_count": 47,
   "metadata": {},
   "outputs": [],
   "source": [
    "# 1) What is the output of the following code and why? \n",
    "\n",
    "# var1 = 1\n",
    "# var2 = 2\n",
    "# var3 = \"3\"\n",
    "\n",
    "# print(var1 + var2 + var3)\n",
    "\n",
    "# a) 6 \n",
    "# b) 33 \n",
    "# c) 3 + 3 \n",
    "# d) Error "
   ]
  },
  {
   "cell_type": "code",
   "execution_count": 113,
   "metadata": {},
   "outputs": [
    {
     "name": "stdout",
     "output_type": "stream",
     "text": [
      "3 3\n",
      "6\n",
      "3 + 3\n"
     ]
    }
   ],
   "source": [
    "# d) for that the operand + is used on different types of value\n",
    "# things that could work\n",
    "var1 = 1\n",
    "var2 = 2\n",
    "var3 = \"3\"\n",
    "\n",
    "print(var1 + var2 , var3)\n",
    "print(var1 + var2 + int(var3))\n",
    "print(var1 + var2,'+',var3)"
   ]
  },
  {
   "cell_type": "code",
   "execution_count": 49,
   "metadata": {},
   "outputs": [],
   "source": [
    "# 2) What is the output of the following code? \n",
    "\n",
    "# str = \"pynative\"\n",
    "\n",
    "# print (str[1:3])\n",
    "\n",
    "# a) py\n",
    "# b) yn\n",
    "# c) pyn\n",
    "# d) yna"
   ]
  },
  {
   "cell_type": "markdown",
   "metadata": {},
   "source": [
    "b) for that str[1:3]means counting from 1(including 1) up to 3(not include 3)"
   ]
  },
  {
   "cell_type": "code",
   "execution_count": 50,
   "metadata": {},
   "outputs": [],
   "source": [
    "# 3) What is the output of the following code? \n",
    "\n",
    "# var= \"James Bond\"\n",
    "# print(var[2::-1])\n",
    "\n",
    "# a) Jam\n",
    "# b) dno\n",
    "# c) maJ\n",
    "# d) dnoB semaJ"
   ]
  },
  {
   "cell_type": "markdown",
   "metadata": {},
   "source": [
    "c) for that var[2::-1]means counting from 2 (includes 2),up to enternity (the blank), but backwards, so just frist three letter backwards.  "
   ]
  },
  {
   "cell_type": "code",
   "execution_count": 51,
   "metadata": {},
   "outputs": [],
   "source": [
    "# 4) What is the output of the following code? \n",
    "\n",
    "# var = \"James\" * 2  * 3\n",
    "# print(var)\n",
    "\n",
    "# a) JamesJamesJamesJamesJamesJames\n",
    "# b) JamesJamesJamesJamesJames\n",
    "# c) Error: invalid syntax"
   ]
  },
  {
   "cell_type": "markdown",
   "metadata": {},
   "source": [
    "a) for that 2*3 is 6 and hence \"James\" is asked to multiply 6 times"
   ]
  },
  {
   "cell_type": "code",
   "execution_count": 52,
   "metadata": {},
   "outputs": [],
   "source": [
    "# 5) Get rid of the non fruit item: \n",
    "\n",
    "# sweets = ['apple', 'bananas', 'cantelopes', 'donut']\n"
   ]
  },
  {
   "cell_type": "code",
   "execution_count": 53,
   "metadata": {},
   "outputs": [
    {
     "name": "stdout",
     "output_type": "stream",
     "text": [
      "['apple', 'and', 'bananas', 'kissing an', 'cantelope']\n"
     ]
    }
   ],
   "source": [
    "sweets = ['apple', 'bananas', 'cantelope', 'donut']\n",
    "sweets.remove('donut')\n",
    "sweets.insert(1,'and')\n",
    "sweets.insert(3,'kissing an')\n",
    "print(sweets)"
   ]
  },
  {
   "cell_type": "code",
   "execution_count": 54,
   "metadata": {},
   "outputs": [],
   "source": [
    "# 6) Find \"santa\" in the variable \"house\" \n",
    "\n",
    "\n",
    "# room1=['gabe', 'greg']\n",
    "# room2=['michelle','santa','stacey']\n",
    "# room3=['adam','sam', 'melissa']\n",
    "# house= [room2, room1, room3] \n"
   ]
  },
  {
   "cell_type": "code",
   "execution_count": 55,
   "metadata": {},
   "outputs": [
    {
     "data": {
      "text/plain": [
       "'santa'"
      ]
     },
     "execution_count": 55,
     "metadata": {},
     "output_type": "execute_result"
    }
   ],
   "source": [
    "room1=['gabe', 'greg']\n",
    "room2=['michelle','santa','stacey']\n",
    "room3=['adam','sam', 'melissa']\n",
    "house= [room2, room1, room3] \n",
    "\n",
    "house[0][1]\n"
   ]
  },
  {
   "cell_type": "code",
   "execution_count": 56,
   "metadata": {},
   "outputs": [],
   "source": [
    "# 7) A dictionary is the best way to store a sequence of events like a recipe.\n",
    "\n",
    "# True or false? \n",
    " \n"
   ]
  },
  {
   "cell_type": "markdown",
   "metadata": {},
   "source": [
    "false, dictionaries store unsequenced, unordered matching keys and assigned values pairs."
   ]
  },
  {
   "cell_type": "code",
   "execution_count": 57,
   "metadata": {},
   "outputs": [],
   "source": [
    "# 8) Remove all dupes \n",
    "# names = ['mary', 'bob', 'jessica', 'pierre', 'bob', 'jennifer', 'chris', \n",
    "#          'christina', 'tina', 'mary', 'tina', 'bob', 'michelle','jennifer']"
   ]
  },
  {
   "cell_type": "code",
   "execution_count": 106,
   "metadata": {},
   "outputs": [
    {
     "data": {
      "text/plain": [
       "{'bob',\n",
       " 'chris',\n",
       " 'christina',\n",
       " 'jennifer',\n",
       " 'jessica',\n",
       " 'mary',\n",
       " 'michelle',\n",
       " 'pierre',\n",
       " 'tina'}"
      ]
     },
     "execution_count": 106,
     "metadata": {},
     "output_type": "execute_result"
    }
   ],
   "source": [
    "names = ['mary', 'bob', 'jessica', 'pierre', 'bob', 'jennifer', 'chris', \n",
    "          'christina', 'tina', 'mary', 'tina', 'bob', 'michelle','jennifer']\n",
    "set(names)"
   ]
  },
  {
   "cell_type": "code",
   "execution_count": 107,
   "metadata": {},
   "outputs": [],
   "source": [
    "# 9) What's the difference between = and == ? "
   ]
  },
  {
   "cell_type": "markdown",
   "metadata": {},
   "source": [
    "= is assigning value, == is checking if the operands from both sides are equal"
   ]
  },
  {
   "cell_type": "code",
   "execution_count": 108,
   "metadata": {},
   "outputs": [],
   "source": [
    "# 10) \n",
    "\n",
    "# Use the concepts you learned in class to construct a poem. Please make sure you write your own poem. There are no guidelines to writing this poem but if you want, feel free to following traditional poem formats like ballads, sonnets, haikus or more.  \n",
    "\n",
    "# See below for example. I expect yours to have a bit more elegant. \n",
    "\n",
    "# Credit Poem: \"Still I Rise\" by Maya Angelou \n",
    "\n",
    "# Reference: https://www.popwebdesign.net/popart_blog/en/2018/01/code-poetry-poems-written-in-programming-languages/ \n"
   ]
  },
  {
   "cell_type": "code",
   "execution_count": 112,
   "metadata": {},
   "outputs": [
    {
     "name": "stdout",
     "output_type": "stream",
     "text": [
      "Love Letter\n",
      "\n",
      "\n",
      "Rui\n",
      "02032023\n",
      "..................................................................................................................\n",
      "\n",
      "\n",
      "Two people lying face to face,\n",
      "Awake but quiet.\n",
      "Nose up close to cheek.\n",
      "Blood circulates at the speed of it evaporates. \n",
      "\n",
      "\n",
      "The heater is sizzling,\n",
      "Water filter from the fish tank in the living room \n",
      "makes this heated cube sound like an eternity by a stream. \n",
      "\n",
      "\n",
      "I still dream of the rustling sound from my hamster at midnight after he dead months ago.\n",
      "\n",
      "\n",
      "Outside secretly snowed a little bit,\n",
      "Breathing sounds from one to another,\n",
      "Awake but quiet,\n",
      "\n",
      "\n",
      "\n",
      "˚¨¨¨¨¨¨¨¨¨¨¨¨¨¨¨¨¨¨¨¨¨¨¨¨¨¨¨¨¨¨¨¨¨¨¨¨¨¨˚\n",
      "¦ “Did u hear the elephant last night?”¦\n",
      "᪨˚¨¨¨¨¨¨¨¨¨¨¨¨¨¨¨¨¨¨¨¨¨¨¨¨¨¨¨¨¨¨¨¨¨¨¨¨¨˚ \n",
      "\n",
      "          ˚¨¨¨¨¨¨¨¨¨¨¨¨¨¨¨¨¨¨¨¨¨¨¨¨¨¨¨¨¨¨¨¨¨¨¨¨¨¨¨¨¨¨¨¨˚\n",
      "          ¦ No, I fell asleep. What does it sound like?¦\n",
      "          ˚¨¨¨¨¨¨¨¨¨¨¨¨¨¨¨¨¨¨¨¨¨¨¨¨¨¨¨¨¨¨¨¨¨¨¨¨¨¨¨¨¨¨¨¨˚᪨   \n",
      "\n",
      "˚¨¨¨¨¨¨¨¨¨¨¨¨¨¨¨¨¨¨¨¨¨¨¨¨¨¨¨¨¨¨¨¨˚\n",
      "¦ “…   ~ennnnnggggggnnn~   … ”¦\n",
      "᪨˚¨¨¨¨¨¨¨¨¨¨¨¨¨¨¨¨¨¨¨¨¨¨¨¨¨¨¨¨¨¨¨˚ \n",
      "\n",
      "\n",
      "They tee-heed and moved away from each other,\n",
      "\n",
      "\n",
      "Fall asleep,\n",
      "For what is there and left it there.\n",
      " \n",
      "\n",
      "\n"
     ]
    }
   ],
   "source": [
    "#my poem \n",
    "\n",
    "title = 'Love letter'\n",
    "rui = 'Rui'\n",
    "date = '02032023'\n",
    "qq = '𓂃 𓈒𓏸◌'\n",
    "cut = '......................................'\n",
    "br = '\\n'\n",
    "\n",
    "\n",
    "\n",
    "print(title.title())\n",
    "print(br)\n",
    "print(rui)\n",
    "print(date)\n",
    "print(cut*3)\n",
    "print(br)\n",
    "\n",
    "\n",
    "print('''Two people lying face to face,\n",
    "Awake but quiet.\n",
    "Nose up close to cheek.\n",
    "Blood circulates at the speed of it evaporates. ''')\n",
    "print(br)\n",
    "\n",
    "\n",
    "print('''The heater is sizzling,\n",
    "Water filter from the fish tank in the living room \n",
    "makes this heated cube sound like an eternity by a stream. ''')\n",
    "print(br)\n",
    "\n",
    "\n",
    "\n",
    "print('I still dream of the rustling sound from my hamster at midnight after he dead months ago.')\n",
    "print(br)\n",
    "\n",
    "\n",
    "print('''Outside secretly snowed a little bit,\n",
    "Breathing sounds from one to another,\n",
    "Awake but quiet,''')\n",
    "print(br)\n",
    "\n",
    "print('''\n",
    "˚¨¨¨¨¨¨¨¨¨¨¨¨¨¨¨¨¨¨¨¨¨¨¨¨¨¨¨¨¨¨¨¨¨¨¨¨¨¨˚\n",
    "¦ “Did u hear the elephant last night?”¦\n",
    "᪨˚¨¨¨¨¨¨¨¨¨¨¨¨¨¨¨¨¨¨¨¨¨¨¨¨¨¨¨¨¨¨¨¨¨¨¨¨¨˚ ''')\n",
    "\n",
    "print('''\n",
    "          ˚¨¨¨¨¨¨¨¨¨¨¨¨¨¨¨¨¨¨¨¨¨¨¨¨¨¨¨¨¨¨¨¨¨¨¨¨¨¨¨¨¨¨¨¨˚\n",
    "          ¦ No, I fell asleep. What does it sound like?¦\n",
    "          ˚¨¨¨¨¨¨¨¨¨¨¨¨¨¨¨¨¨¨¨¨¨¨¨¨¨¨¨¨¨¨¨¨¨¨¨¨¨¨¨¨¨¨¨¨˚᪨   ''')\n",
    "\n",
    "print('''\n",
    "˚¨¨¨¨¨¨¨¨¨¨¨¨¨¨¨¨¨¨¨¨¨¨¨¨¨¨¨¨¨¨¨¨˚\n",
    "¦ “…   ~ennnnnggggggnnn~   … ”¦\n",
    "᪨˚¨¨¨¨¨¨¨¨¨¨¨¨¨¨¨¨¨¨¨¨¨¨¨¨¨¨¨¨¨¨¨˚ ''')\n",
    "print(br)\n",
    "\n",
    "print('They tee-heed and moved away from each other,')\n",
    "print(br)\n",
    "\n",
    "print('''Fall asleep,\n",
    "For what is there and left it there.\n",
    " ''')\n",
    "print(br)\n",
    "\n",
    "\n"
   ]
  }
 ],
 "metadata": {
  "kernelspec": {
   "display_name": "Python 3 (ipykernel)",
   "language": "python",
   "name": "python3"
  },
  "language_info": {
   "codemirror_mode": {
    "name": "ipython",
    "version": 3
   },
   "file_extension": ".py",
   "mimetype": "text/x-python",
   "name": "python",
   "nbconvert_exporter": "python",
   "pygments_lexer": "ipython3",
   "version": "3.9.13"
  }
 },
 "nbformat": 4,
 "nbformat_minor": 2
}
